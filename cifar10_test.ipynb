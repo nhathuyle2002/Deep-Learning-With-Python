{
  "cells": [
    {
      "cell_type": "markdown",
      "source": [
        "## Load data"
      ],
      "metadata": {
        "id": "NHVSOkhwVz3X"
      }
    },
    {
      "cell_type": "code",
      "execution_count": 17,
      "metadata": {
        "id": "py3hfeteOFvt"
      },
      "outputs": [],
      "source": [
        "# use this command when cannot run cuda\n",
        "# import os\n",
        "# os.environ['CUDA_VISIBLE_DEVICES'] = '-1'"
      ]
    },
    {
      "cell_type": "code",
      "execution_count": 18,
      "metadata": {
        "id": "vaebUEfFOFvw"
      },
      "outputs": [],
      "source": [
        "from keras.datasets import cifar10\n",
        "(x_train, y_train), (x_test, y_test) = cifar10.load_data()"
      ]
    },
    {
      "cell_type": "code",
      "execution_count": 19,
      "metadata": {
        "id": "fdcLkFVqOFvx"
      },
      "outputs": [],
      "source": [
        "# x_train, y_train, x_test, y_test = x_train[:5000], y_train[:5000], x_test[:1000], y_test[:1000]"
      ]
    },
    {
      "cell_type": "code",
      "execution_count": 20,
      "metadata": {
        "colab": {
          "base_uri": "https://localhost:8080/"
        },
        "id": "yAsujyvEOFvx",
        "outputId": "42d118ec-5646-4272-dd2d-5df591e147c1"
      },
      "outputs": [
        {
          "output_type": "execute_result",
          "data": {
            "text/plain": [
              "((50000, 32, 32, 3), (10000, 32, 32, 3))"
            ]
          },
          "metadata": {},
          "execution_count": 20
        }
      ],
      "source": [
        "x_train.shape, x_test.shape"
      ]
    },
    {
      "cell_type": "code",
      "execution_count": 21,
      "metadata": {
        "colab": {
          "base_uri": "https://localhost:8080/"
        },
        "id": "RfDqarcmOFvy",
        "outputId": "ea9569a6-7e26-4c55-9d32-36226e91a22c"
      },
      "outputs": [
        {
          "output_type": "execute_result",
          "data": {
            "text/plain": [
              "(50000, 1)"
            ]
          },
          "metadata": {},
          "execution_count": 21
        }
      ],
      "source": [
        "y_train.shape"
      ]
    },
    {
      "cell_type": "code",
      "execution_count": 22,
      "metadata": {
        "colab": {
          "base_uri": "https://localhost:8080/"
        },
        "id": "j4Mk37zgOFvy",
        "outputId": "d341d883-eb71-4ef1-feb6-5331c8417921"
      },
      "outputs": [
        {
          "output_type": "stream",
          "name": "stdout",
          "text": [
            "No. 0: 5000\n",
            "No. 1: 5000\n",
            "No. 2: 5000\n",
            "No. 3: 5000\n",
            "No. 4: 5000\n",
            "No. 5: 5000\n",
            "No. 6: 5000\n",
            "No. 7: 5000\n",
            "No. 8: 5000\n",
            "No. 9: 5000\n"
          ]
        }
      ],
      "source": [
        "import numpy as np\n",
        "for label in range(10):\n",
        "    print(\"No. {}: {}\".format(label, np.sum(y_train==label)))"
      ]
    },
    {
      "cell_type": "code",
      "execution_count": 23,
      "metadata": {
        "colab": {
          "base_uri": "https://localhost:8080/"
        },
        "id": "uWYCxAoFOFvz",
        "outputId": "d0e579c6-0381-45c6-edbe-56d33472306f"
      },
      "outputs": [
        {
          "output_type": "execute_result",
          "data": {
            "text/plain": [
              "(50000, 10)"
            ]
          },
          "metadata": {},
          "execution_count": 23
        }
      ],
      "source": [
        "from keras.utils import to_categorical\n",
        "y_train_one_hot = to_categorical(y_train, num_classes=10)\n",
        "y_test_one_hot = to_categorical(y_test, num_classes=10)\n",
        "y_train_one_hot.shape"
      ]
    },
    {
      "cell_type": "markdown",
      "source": [
        "## Self-built model"
      ],
      "metadata": {
        "id": "7gZ7cmmNTirq"
      }
    },
    {
      "cell_type": "code",
      "execution_count": 24,
      "metadata": {
        "id": "FJnTGVZiOFvz"
      },
      "outputs": [],
      "source": [
        "from keras.models import Sequential\n",
        "from keras.applications import VGG16\n",
        "from keras.layers import Conv2D, MaxPooling2D, Input, Flatten, Dense"
      ]
    },
    {
      "cell_type": "code",
      "execution_count": 25,
      "metadata": {
        "id": "tZfe9SAXOFvz"
      },
      "outputs": [],
      "source": [
        "# base_model = VGG16(include_top=False, input_shape=(32,32,3), weights='imagenet')\n",
        "# for layer in base_model.layers:\n",
        "#     block, type = layer.name.split('_')\n",
        "#     if block == 'block5' and type != 'pool':\n",
        "#         layer.trainable = True\n",
        "#     else:\n",
        "#         layer.trainable = False\n",
        "#     # layer.trainable = False\n",
        "#     # print(layer.name, layer.trainable)"
      ]
    },
    {
      "cell_type": "code",
      "execution_count": 26,
      "metadata": {
        "id": "bm5vzTdVOFv0"
      },
      "outputs": [],
      "source": [
        "# model = Sequential()\n",
        "# model.add(base_model)\n",
        "# model.add(Flatten())\n",
        "# model.add(Dense(units=64, activation='relu'))\n",
        "# model.add(Dense(units=10, activation='softmax'))\n",
        "# model.compile(loss='categorical_crossentropy', optimizer='rmsprop', metrics=['accuracy'])\n",
        "# model.summary()"
      ]
    },
    {
      "cell_type": "code",
      "source": [
        "model = Sequential()\n",
        "model.add(Conv2D(filters=32, kernel_size=(3, 3), input_shape=(32,32,3), activation='relu'))\n",
        "model.add(MaxPooling2D(pool_size=(2,2)))\n",
        "model.add(Conv2D(filters=64, kernel_size=(3, 3), activation='relu'))\n",
        "model.add(MaxPooling2D(pool_size=(2,2)))\n",
        "model.add(Conv2D(filters=128, kernel_size=(3, 3), activation='relu'))\n",
        "model.add(MaxPooling2D(pool_size=(2,2)))\n",
        "model.add(Flatten())\n",
        "model.add(Dense(units=64, activation='relu'))\n",
        "model.add(Dense(units=10, activation='softmax'))\n",
        "model.compile(loss='categorical_crossentropy', optimizer='rmsprop', metrics=['accuracy'])\n",
        "model.summary()"
      ],
      "metadata": {
        "colab": {
          "base_uri": "https://localhost:8080/"
        },
        "id": "HOSkQuB8PeFf",
        "outputId": "61762a1c-64fb-4932-d668-c1483e9f14d9"
      },
      "execution_count": 31,
      "outputs": [
        {
          "output_type": "stream",
          "name": "stdout",
          "text": [
            "Model: \"sequential_6\"\n",
            "_________________________________________________________________\n",
            " Layer (type)                Output Shape              Param #   \n",
            "=================================================================\n",
            " conv2d_18 (Conv2D)          (None, 30, 30, 32)        896       \n",
            "                                                                 \n",
            " max_pooling2d_16 (MaxPooli  (None, 15, 15, 32)        0         \n",
            " ng2D)                                                           \n",
            "                                                                 \n",
            " conv2d_19 (Conv2D)          (None, 13, 13, 64)        18496     \n",
            "                                                                 \n",
            " max_pooling2d_17 (MaxPooli  (None, 6, 6, 64)          0         \n",
            " ng2D)                                                           \n",
            "                                                                 \n",
            " conv2d_20 (Conv2D)          (None, 4, 4, 128)         73856     \n",
            "                                                                 \n",
            " max_pooling2d_18 (MaxPooli  (None, 2, 2, 128)         0         \n",
            " ng2D)                                                           \n",
            "                                                                 \n",
            " flatten_4 (Flatten)         (None, 512)               0         \n",
            "                                                                 \n",
            " dense_8 (Dense)             (None, 64)                32832     \n",
            "                                                                 \n",
            " dense_9 (Dense)             (None, 10)                650       \n",
            "                                                                 \n",
            "=================================================================\n",
            "Total params: 126730 (495.04 KB)\n",
            "Trainable params: 126730 (495.04 KB)\n",
            "Non-trainable params: 0 (0.00 Byte)\n",
            "_________________________________________________________________\n"
          ]
        }
      ]
    },
    {
      "cell_type": "code",
      "execution_count": 32,
      "metadata": {
        "colab": {
          "base_uri": "https://localhost:8080/"
        },
        "id": "Jnc3HtUwOFv0",
        "outputId": "77b1185e-8bc8-4b4f-8aab-4b36373c05cc"
      },
      "outputs": [
        {
          "output_type": "stream",
          "name": "stdout",
          "text": [
            "Epoch 1/10\n",
            "1563/1563 [==============================] - 11s 6ms/step - loss: 1.8623 - accuracy: 0.3799 - val_loss: 1.3697 - val_accuracy: 0.5140\n",
            "Epoch 2/10\n",
            "1563/1563 [==============================] - 8s 5ms/step - loss: 1.3385 - accuracy: 0.5350 - val_loss: 1.5106 - val_accuracy: 0.4850\n",
            "Epoch 3/10\n",
            "1563/1563 [==============================] - 8s 5ms/step - loss: 1.1993 - accuracy: 0.5913 - val_loss: 1.5109 - val_accuracy: 0.5074\n",
            "Epoch 4/10\n",
            "1563/1563 [==============================] - 9s 6ms/step - loss: 1.1122 - accuracy: 0.6238 - val_loss: 1.3109 - val_accuracy: 0.5622\n",
            "Epoch 5/10\n",
            "1563/1563 [==============================] - 9s 5ms/step - loss: 1.0452 - accuracy: 0.6482 - val_loss: 1.2176 - val_accuracy: 0.6009\n",
            "Epoch 6/10\n",
            "1563/1563 [==============================] - 8s 5ms/step - loss: 1.0080 - accuracy: 0.6654 - val_loss: 1.2328 - val_accuracy: 0.6035\n",
            "Epoch 7/10\n",
            "1563/1563 [==============================] - 9s 6ms/step - loss: 0.9778 - accuracy: 0.6789 - val_loss: 1.1357 - val_accuracy: 0.6362\n",
            "Epoch 8/10\n",
            "1563/1563 [==============================] - 8s 5ms/step - loss: 0.9352 - accuracy: 0.6922 - val_loss: 1.2062 - val_accuracy: 0.6435\n",
            "Epoch 9/10\n",
            "1563/1563 [==============================] - 8s 5ms/step - loss: 0.9021 - accuracy: 0.7056 - val_loss: 1.1384 - val_accuracy: 0.6404\n",
            "Epoch 10/10\n",
            "1563/1563 [==============================] - 9s 6ms/step - loss: 0.8745 - accuracy: 0.7131 - val_loss: 0.9884 - val_accuracy: 0.6762\n"
          ]
        },
        {
          "output_type": "execute_result",
          "data": {
            "text/plain": [
              "<keras.src.callbacks.History at 0x7c53f0bc7e80>"
            ]
          },
          "metadata": {},
          "execution_count": 32
        }
      ],
      "source": [
        "model.fit(x_train, y_train_one_hot,\n",
        "          validation_data=(x_test, y_test_one_hot),\n",
        "          epochs=10,\n",
        "          batch_size=32)"
      ]
    },
    {
      "cell_type": "code",
      "source": [
        "preds = (model.predict(x_test[10:20]))\n",
        "for pred in preds:\n",
        "    print(np.argmax(pred), end = ' ')"
      ],
      "metadata": {
        "colab": {
          "base_uri": "https://localhost:8080/"
        },
        "id": "uT25fwDMSnOC",
        "outputId": "251844db-48b9-4b92-ac0d-c5250f6c0548"
      },
      "execution_count": 40,
      "outputs": [
        {
          "output_type": "stream",
          "name": "stdout",
          "text": [
            "1/1 [==============================] - 0s 32ms/step\n",
            "8 9 3 7 9 8 5 2 8 6 "
          ]
        }
      ]
    },
    {
      "cell_type": "code",
      "source": [
        "y_test[10:20]"
      ],
      "metadata": {
        "colab": {
          "base_uri": "https://localhost:8080/"
        },
        "id": "P9jNa90FTCye",
        "outputId": "b4b7ef32-904f-4c0e-f561-397e393b7ac4"
      },
      "execution_count": 41,
      "outputs": [
        {
          "output_type": "execute_result",
          "data": {
            "text/plain": [
              "array([[0],\n",
              "       [9],\n",
              "       [5],\n",
              "       [7],\n",
              "       [9],\n",
              "       [8],\n",
              "       [5],\n",
              "       [7],\n",
              "       [8],\n",
              "       [6]], dtype=uint8)"
            ]
          },
          "metadata": {},
          "execution_count": 41
        }
      ]
    },
    {
      "cell_type": "markdown",
      "source": [
        "## Pretrained model"
      ],
      "metadata": {
        "id": "HEMGD0L3Twtc"
      }
    },
    {
      "cell_type": "code",
      "execution_count": 63,
      "metadata": {
        "id": "D5JKWlgpTwtd"
      },
      "outputs": [],
      "source": [
        "from keras.models import Sequential\n",
        "from keras.applications import VGG16\n",
        "from keras.layers import Conv2D, MaxPooling2D, Input, Flatten, Dense"
      ]
    },
    {
      "cell_type": "code",
      "execution_count": 64,
      "metadata": {
        "id": "sByRrFogTwtd"
      },
      "outputs": [],
      "source": [
        "base_model = VGG16(include_top=False, input_shape=(32,32,3), weights='imagenet')\n",
        "for layer in base_model.layers:\n",
        "    # block, type = layer.name.split('_')\n",
        "    # if block == 'block5':# and type != 'pool':\n",
        "    #     layer.trainable = True\n",
        "    # else:\n",
        "    #     layer.trainable = False\n",
        "    layer.trainable = False\n",
        "    # print(layer.name, layer.trainable)"
      ]
    },
    {
      "cell_type": "code",
      "execution_count": 65,
      "metadata": {
        "colab": {
          "base_uri": "https://localhost:8080/"
        },
        "id": "xwPgfYv1Twtd",
        "outputId": "f87075c2-911a-49d9-c6f1-9bbdf05292b2"
      },
      "outputs": [
        {
          "output_type": "stream",
          "name": "stdout",
          "text": [
            "Model: \"sequential_9\"\n",
            "_________________________________________________________________\n",
            " Layer (type)                Output Shape              Param #   \n",
            "=================================================================\n",
            " vgg16 (Functional)          (None, 1, 1, 512)         14714688  \n",
            "                                                                 \n",
            " flatten_7 (Flatten)         (None, 512)               0         \n",
            "                                                                 \n",
            " dense_14 (Dense)            (None, 64)                32832     \n",
            "                                                                 \n",
            " dense_15 (Dense)            (None, 10)                650       \n",
            "                                                                 \n",
            "=================================================================\n",
            "Total params: 14748170 (56.26 MB)\n",
            "Trainable params: 33482 (130.79 KB)\n",
            "Non-trainable params: 14714688 (56.13 MB)\n",
            "_________________________________________________________________\n"
          ]
        }
      ],
      "source": [
        "model = Sequential()\n",
        "model.add(base_model)\n",
        "model.add(Flatten())\n",
        "model.add(Dense(units=64, activation='relu'))\n",
        "model.add(Dense(units=10, activation='softmax'))\n",
        "model.compile(loss='categorical_crossentropy', optimizer='rmsprop', metrics=['accuracy'])\n",
        "model.summary()"
      ]
    },
    {
      "cell_type": "code",
      "source": [
        "# model = Sequential()\n",
        "# model.add(Conv2D(filters=32, kernel_size=(3, 3), input_shape=(32,32,3), activation='relu'))\n",
        "# model.add(MaxPooling2D(pool_size=(2,2)))\n",
        "# model.add(Conv2D(filters=64, kernel_size=(3, 3), activation='relu'))\n",
        "# model.add(MaxPooling2D(pool_size=(2,2)))\n",
        "# model.add(Conv2D(filters=128, kernel_size=(3, 3), activation='relu'))\n",
        "# model.add(MaxPooling2D(pool_size=(2,2)))\n",
        "# model.add(Flatten())\n",
        "# model.add(Dense(units=64, activation='relu'))\n",
        "# model.add(Dense(units=10, activation='softmax'))\n",
        "# model.compile(loss='categorical_crossentropy', optimizer='rmsprop', metrics=['accuracy'])\n",
        "# model.summary()"
      ],
      "metadata": {
        "id": "BHeCvZ1pTwtd"
      },
      "execution_count": 66,
      "outputs": []
    },
    {
      "cell_type": "code",
      "execution_count": 67,
      "metadata": {
        "colab": {
          "base_uri": "https://localhost:8080/"
        },
        "outputId": "8b345bb1-eb4a-4c3e-f6c2-fc8588c23c8a",
        "id": "3y_AeuquTwtd"
      },
      "outputs": [
        {
          "output_type": "stream",
          "name": "stdout",
          "text": [
            "Epoch 1/10\n",
            "1563/1563 [==============================] - 18s 11ms/step - loss: 2.0886 - accuracy: 0.4465 - val_loss: 1.4670 - val_accuracy: 0.5224\n",
            "Epoch 2/10\n",
            "1563/1563 [==============================] - 17s 11ms/step - loss: 1.3564 - accuracy: 0.5587 - val_loss: 1.4055 - val_accuracy: 0.5613\n",
            "Epoch 3/10\n",
            "1563/1563 [==============================] - 16s 10ms/step - loss: 1.2711 - accuracy: 0.5913 - val_loss: 1.3613 - val_accuracy: 0.5711\n",
            "Epoch 4/10\n",
            "1563/1563 [==============================] - 17s 11ms/step - loss: 1.2321 - accuracy: 0.6056 - val_loss: 1.3822 - val_accuracy: 0.5801\n",
            "Epoch 5/10\n",
            "1563/1563 [==============================] - 19s 12ms/step - loss: 1.2129 - accuracy: 0.6120 - val_loss: 1.3799 - val_accuracy: 0.5829\n",
            "Epoch 6/10\n",
            "1563/1563 [==============================] - 16s 11ms/step - loss: 1.1916 - accuracy: 0.6200 - val_loss: 1.4489 - val_accuracy: 0.5829\n",
            "Epoch 7/10\n",
            "1563/1563 [==============================] - 16s 11ms/step - loss: 1.1796 - accuracy: 0.6233 - val_loss: 1.5202 - val_accuracy: 0.5779\n",
            "Epoch 8/10\n",
            "1563/1563 [==============================] - 17s 11ms/step - loss: 1.1749 - accuracy: 0.6269 - val_loss: 1.4843 - val_accuracy: 0.5801\n",
            "Epoch 9/10\n",
            "1563/1563 [==============================] - 16s 10ms/step - loss: 1.1641 - accuracy: 0.6318 - val_loss: 1.5653 - val_accuracy: 0.5798\n",
            "Epoch 10/10\n",
            "1563/1563 [==============================] - 17s 11ms/step - loss: 1.1576 - accuracy: 0.6354 - val_loss: 1.5725 - val_accuracy: 0.5821\n"
          ]
        },
        {
          "output_type": "execute_result",
          "data": {
            "text/plain": [
              "<keras.src.callbacks.History at 0x7c546d1d95d0>"
            ]
          },
          "metadata": {},
          "execution_count": 67
        }
      ],
      "source": [
        "model.fit(x_train, y_train_one_hot,\n",
        "          validation_data=(x_test, y_test_one_hot),\n",
        "          epochs=10,\n",
        "          batch_size=32)"
      ]
    },
    {
      "cell_type": "code",
      "source": [
        "preds = (model.predict(x_test[100:150]))\n",
        "for pred in preds:\n",
        "    print(np.argmax(pred), end = ' ')\n",
        "print()\n",
        "print(*(y_test[100:150].flatten()))"
      ],
      "metadata": {
        "colab": {
          "base_uri": "https://localhost:8080/"
        },
        "outputId": "4140ef8f-86c6-4b18-e3a9-607084637b25",
        "id": "zv6H6osNTwte"
      },
      "execution_count": 68,
      "outputs": [
        {
          "output_type": "stream",
          "name": "stdout",
          "text": [
            "2/2 [==============================] - 0s 11ms/step\n",
            "7 3 5 3 1 1 3 6 1 7 4 0 2 2 1 3 0 4 3 7 0 7 9 2 8 2 8 3 3 0 2 1 8 9 6 3 9 1 4 8 6 5 6 3 8 3 6 5 5 3 \n",
            "4 5 6 3 1 1 3 6 8 7 4 0 6 2 1 3 0 4 2 7 8 3 1 2 8 0 8 3 5 2 4 1 8 9 1 2 9 7 2 9 6 5 6 3 8 7 6 2 5 2\n"
          ]
        }
      ]
    },
    {
      "cell_type": "markdown",
      "source": [
        "## Pretrained model (trainable last block)"
      ],
      "metadata": {
        "id": "CoKCM6VnVqV4"
      }
    },
    {
      "cell_type": "code",
      "execution_count": null,
      "metadata": {
        "id": "mepksfYyVqWJ"
      },
      "outputs": [],
      "source": [
        "from keras.models import Sequential\n",
        "from keras.applications import VGG16\n",
        "from keras.layers import Conv2D, MaxPooling2D, Input, Flatten, Dense"
      ]
    },
    {
      "cell_type": "code",
      "execution_count": null,
      "metadata": {
        "id": "CYqa0bwEVqWK"
      },
      "outputs": [],
      "source": [
        "base_model = VGG16(include_top=False, input_shape=(32,32,3), weights='imagenet')\n",
        "for layer in base_model.layers:\n",
        "    block, type = layer.name.split('_')\n",
        "    if block == 'block5' and type != 'pool':\n",
        "        layer.trainable = True\n",
        "    else:\n",
        "        layer.trainable = False\n",
        "    # layer.trainable = False\n",
        "    # print(layer.name, layer.trainable)"
      ]
    },
    {
      "cell_type": "code",
      "execution_count": null,
      "metadata": {
        "colab": {
          "base_uri": "https://localhost:8080/"
        },
        "outputId": "833c98f5-4b32-4426-a0f3-db6eaf3dd9d3",
        "id": "uC0aDYM1VqWK"
      },
      "outputs": [
        {
          "output_type": "stream",
          "name": "stdout",
          "text": [
            "Model: \"sequential_7\"\n",
            "_________________________________________________________________\n",
            " Layer (type)                Output Shape              Param #   \n",
            "=================================================================\n",
            " vgg16 (Functional)          (None, 1, 1, 512)         14714688  \n",
            "                                                                 \n",
            " flatten_5 (Flatten)         (None, 512)               0         \n",
            "                                                                 \n",
            " dense_10 (Dense)            (None, 64)                32832     \n",
            "                                                                 \n",
            " dense_11 (Dense)            (None, 10)                650       \n",
            "                                                                 \n",
            "=================================================================\n",
            "Total params: 14748170 (56.26 MB)\n",
            "Trainable params: 7112906 (27.13 MB)\n",
            "Non-trainable params: 7635264 (29.13 MB)\n",
            "_________________________________________________________________\n"
          ]
        }
      ],
      "source": [
        "model = Sequential()\n",
        "model.add(base_model)\n",
        "model.add(Flatten())\n",
        "model.add(Dense(units=64, activation='relu'))\n",
        "model.add(Dense(units=10, activation='softmax'))\n",
        "model.compile(loss='categorical_crossentropy', optimizer='rmsprop', metrics=['accuracy'])\n",
        "model.summary()"
      ]
    },
    {
      "cell_type": "code",
      "source": [
        "# model = Sequential()\n",
        "# model.add(Conv2D(filters=32, kernel_size=(3, 3), input_shape=(32,32,3), activation='relu'))\n",
        "# model.add(MaxPooling2D(pool_size=(2,2)))\n",
        "# model.add(Conv2D(filters=64, kernel_size=(3, 3), activation='relu'))\n",
        "# model.add(MaxPooling2D(pool_size=(2,2)))\n",
        "# model.add(Conv2D(filters=128, kernel_size=(3, 3), activation='relu'))\n",
        "# model.add(MaxPooling2D(pool_size=(2,2)))\n",
        "# model.add(Flatten())\n",
        "# model.add(Dense(units=64, activation='relu'))\n",
        "# model.add(Dense(units=10, activation='softmax'))\n",
        "# model.compile(loss='categorical_crossentropy', optimizer='rmsprop', metrics=['accuracy'])\n",
        "# model.summary()"
      ],
      "metadata": {
        "id": "2ECM_MS2VqWL"
      },
      "execution_count": null,
      "outputs": []
    },
    {
      "cell_type": "code",
      "execution_count": null,
      "metadata": {
        "colab": {
          "base_uri": "https://localhost:8080/"
        },
        "outputId": "2cc24cb8-98df-4f3f-acb1-0a40bd1e0dc5",
        "id": "drGi8AiSVqWL"
      },
      "outputs": [
        {
          "output_type": "stream",
          "name": "stdout",
          "text": [
            "Epoch 1/10\n",
            "1563/1563 [==============================] - 28s 17ms/step - loss: 2.3478 - accuracy: 0.5582 - val_loss: 1.2591 - val_accuracy: 0.5836\n",
            "Epoch 2/10\n",
            "1563/1563 [==============================] - 25s 16ms/step - loss: 1.0044 - accuracy: 0.6860 - val_loss: 1.0939 - val_accuracy: 0.6860\n",
            "Epoch 3/10\n",
            "1563/1563 [==============================] - 26s 17ms/step - loss: 0.9366 - accuracy: 0.7132 - val_loss: 0.9211 - val_accuracy: 0.6941\n",
            "Epoch 4/10\n",
            "1563/1563 [==============================] - 29s 18ms/step - loss: 0.9020 - accuracy: 0.7245 - val_loss: 1.0057 - val_accuracy: 0.6952\n",
            "Epoch 5/10\n",
            "1563/1563 [==============================] - 26s 16ms/step - loss: 0.8655 - accuracy: 0.7409 - val_loss: 0.8821 - val_accuracy: 0.7387\n",
            "Epoch 6/10\n",
            "1563/1563 [==============================] - 26s 16ms/step - loss: 0.8397 - accuracy: 0.7509 - val_loss: 0.9031 - val_accuracy: 0.7204\n",
            "Epoch 7/10\n",
            "1563/1563 [==============================] - 26s 16ms/step - loss: 0.8286 - accuracy: 0.7581 - val_loss: 0.9768 - val_accuracy: 0.7342\n",
            "Epoch 8/10\n",
            "1563/1563 [==============================] - 26s 17ms/step - loss: 0.8229 - accuracy: 0.7619 - val_loss: 1.2045 - val_accuracy: 0.7446\n",
            "Epoch 9/10\n",
            "1563/1563 [==============================] - 26s 17ms/step - loss: 0.8331 - accuracy: 0.7616 - val_loss: 1.1530 - val_accuracy: 0.7203\n",
            "Epoch 10/10\n",
            "1563/1563 [==============================] - 26s 16ms/step - loss: 0.8757 - accuracy: 0.7517 - val_loss: 1.1594 - val_accuracy: 0.7051\n"
          ]
        },
        {
          "output_type": "execute_result",
          "data": {
            "text/plain": [
              "<keras.src.callbacks.History at 0x7c53f0b8b070>"
            ]
          },
          "metadata": {},
          "execution_count": 45
        }
      ],
      "source": [
        "model.fit(x_train, y_train_one_hot,\n",
        "          validation_data=(x_test, y_test_one_hot),\n",
        "          epochs=10,\n",
        "          batch_size=32)"
      ]
    },
    {
      "cell_type": "code",
      "source": [
        "preds = (model.predict(x_test[100:150]))\n",
        "for pred in preds:\n",
        "    print(np.argmax(pred), end = ' ')\n",
        "print()\n",
        "print(*(y_test[100:150].flatten()))"
      ],
      "metadata": {
        "colab": {
          "base_uri": "https://localhost:8080/"
        },
        "outputId": "87dfe02f-6c78-43db-c698-ab2f3f2c0e96",
        "id": "kUuUR6XAVqWM"
      },
      "execution_count": null,
      "outputs": [
        {
          "output_type": "stream",
          "name": "stdout",
          "text": [
            "2/2 [==============================] - 1s 470ms/step\n",
            "1 3 6 3 1 1 4 6 8 7 4 0 2 2 1 3 0 4 3 3 8 3 1 2 8 4 8 3 3 2 4 1 8 9 3 3 9 7 4 8 6 5 6 5 3 3 6 5 3 3 \n",
            "4 5 6 3 1 1 3 6 8 7 4 0 6 2 1 3 0 4 2 7 8 3 1 2 8 0 8 3 5 2 4 1 8 9 1 2 9 7 2 9 6 5 6 3 8 7 6 2 5 2\n"
          ]
        }
      ]
    }
  ],
  "metadata": {
    "kernelspec": {
      "display_name": "Python 3",
      "name": "python3"
    },
    "language_info": {
      "codemirror_mode": {
        "name": "ipython",
        "version": 3
      },
      "file_extension": ".py",
      "mimetype": "text/x-python",
      "name": "python",
      "nbconvert_exporter": "python",
      "pygments_lexer": "ipython3",
      "version": "3.10.13"
    },
    "colab": {
      "provenance": [],
      "collapsed_sections": [
        "NHVSOkhwVz3X",
        "7gZ7cmmNTirq"
      ],
      "toc_visible": true,
      "gpuType": "T4"
    },
    "accelerator": "GPU"
  },
  "nbformat": 4,
  "nbformat_minor": 0
}