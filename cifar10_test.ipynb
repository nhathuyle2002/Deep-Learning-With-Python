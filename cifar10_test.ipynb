{
 "cells": [
  {
   "cell_type": "code",
   "execution_count": 1,
   "metadata": {},
   "outputs": [],
   "source": [
    "import os\n",
    "os.environ['CUDA_VISIBLE_DEVICES'] = '-1'"
   ]
  },
  {
   "cell_type": "code",
   "execution_count": 2,
   "metadata": {},
   "outputs": [
    {
     "name": "stderr",
     "output_type": "stream",
     "text": [
      "2023-11-09 15:29:51.501335: E tensorflow/compiler/xla/stream_executor/cuda/cuda_dnn.cc:9342] Unable to register cuDNN factory: Attempting to register factory for plugin cuDNN when one has already been registered\n",
      "2023-11-09 15:29:51.501384: E tensorflow/compiler/xla/stream_executor/cuda/cuda_fft.cc:609] Unable to register cuFFT factory: Attempting to register factory for plugin cuFFT when one has already been registered\n",
      "2023-11-09 15:29:51.501426: E tensorflow/compiler/xla/stream_executor/cuda/cuda_blas.cc:1518] Unable to register cuBLAS factory: Attempting to register factory for plugin cuBLAS when one has already been registered\n",
      "2023-11-09 15:29:51.508932: I tensorflow/core/platform/cpu_feature_guard.cc:182] This TensorFlow binary is optimized to use available CPU instructions in performance-critical operations.\n",
      "To enable the following instructions: AVX2 FMA, in other operations, rebuild TensorFlow with the appropriate compiler flags.\n",
      "2023-11-09 15:29:52.327938: W tensorflow/compiler/tf2tensorrt/utils/py_utils.cc:38] TF-TRT Warning: Could not find TensorRT\n"
     ]
    }
   ],
   "source": [
    "from keras.datasets import cifar10\n",
    "(x_train, y_train), (x_test, y_test) = cifar10.load_data()"
   ]
  },
  {
   "cell_type": "code",
   "execution_count": 3,
   "metadata": {},
   "outputs": [],
   "source": [
    "x_train, y_train, x_test, y_test = x_train[:10000], y_train[:10000], x_test[:2000], y_test[:2000]"
   ]
  },
  {
   "cell_type": "code",
   "execution_count": 4,
   "metadata": {},
   "outputs": [
    {
     "data": {
      "text/plain": [
       "((10000, 32, 32, 3), (2000, 32, 32, 3))"
      ]
     },
     "execution_count": 4,
     "metadata": {},
     "output_type": "execute_result"
    }
   ],
   "source": [
    "x_train.shape, x_test.shape"
   ]
  },
  {
   "cell_type": "code",
   "execution_count": 5,
   "metadata": {},
   "outputs": [
    {
     "data": {
      "text/plain": [
       "(10000, 1)"
      ]
     },
     "execution_count": 5,
     "metadata": {},
     "output_type": "execute_result"
    }
   ],
   "source": [
    "y_train.shape"
   ]
  },
  {
   "cell_type": "code",
   "execution_count": 6,
   "metadata": {},
   "outputs": [
    {
     "name": "stdout",
     "output_type": "stream",
     "text": [
      "No. 0: 1005\n",
      "No. 1: 974\n",
      "No. 2: 1032\n",
      "No. 3: 1016\n",
      "No. 4: 999\n",
      "No. 5: 937\n",
      "No. 6: 1030\n",
      "No. 7: 1001\n",
      "No. 8: 1025\n",
      "No. 9: 981\n"
     ]
    }
   ],
   "source": [
    "import numpy as np\n",
    "for label in range(10):\n",
    "    print(\"No. {}: {}\".format(label, np.sum(y_train==label)))"
   ]
  },
  {
   "cell_type": "code",
   "execution_count": 7,
   "metadata": {},
   "outputs": [
    {
     "data": {
      "text/plain": [
       "(10000, 10)"
      ]
     },
     "execution_count": 7,
     "metadata": {},
     "output_type": "execute_result"
    }
   ],
   "source": [
    "from keras.utils import to_categorical\n",
    "y_train_one_hot = to_categorical(y_train, num_classes=10)\n",
    "y_test_one_hot = to_categorical(y_test, num_classes=10)\n",
    "y_train_one_hot.shape"
   ]
  },
  {
   "cell_type": "code",
   "execution_count": 8,
   "metadata": {},
   "outputs": [],
   "source": [
    "from keras.models import Sequential\n",
    "from keras.applications import VGG16\n",
    "from keras.layers import Input, Flatten, Dense"
   ]
  },
  {
   "cell_type": "code",
   "execution_count": 9,
   "metadata": {},
   "outputs": [
    {
     "name": "stderr",
     "output_type": "stream",
     "text": [
      "2023-11-09 15:29:54.596827: E tensorflow/compiler/xla/stream_executor/cuda/cuda_driver.cc:268] failed call to cuInit: CUDA_ERROR_NO_DEVICE: no CUDA-capable device is detected\n",
      "2023-11-09 15:29:54.596861: I tensorflow/compiler/xla/stream_executor/cuda/cuda_diagnostics.cc:168] retrieving CUDA diagnostic information for host: huy-Ubuntu\n",
      "2023-11-09 15:29:54.596868: I tensorflow/compiler/xla/stream_executor/cuda/cuda_diagnostics.cc:175] hostname: huy-Ubuntu\n",
      "2023-11-09 15:29:54.596993: I tensorflow/compiler/xla/stream_executor/cuda/cuda_diagnostics.cc:199] libcuda reported version is: 535.129.3\n",
      "2023-11-09 15:29:54.597014: I tensorflow/compiler/xla/stream_executor/cuda/cuda_diagnostics.cc:203] kernel reported version is: 535.113.1\n",
      "2023-11-09 15:29:54.597020: E tensorflow/compiler/xla/stream_executor/cuda/cuda_diagnostics.cc:312] kernel version 535.113.1 does not match DSO version 535.129.3 -- cannot find working devices in this configuration\n"
     ]
    },
    {
     "name": "stdout",
     "output_type": "stream",
     "text": [
      "input_1 False\n",
      "block1_conv1 False\n",
      "block1_conv2 False\n",
      "block1_pool False\n",
      "block2_conv1 False\n",
      "block2_conv2 False\n",
      "block2_pool False\n",
      "block3_conv1 False\n",
      "block3_conv2 False\n",
      "block3_conv3 False\n",
      "block3_pool False\n",
      "block4_conv1 False\n",
      "block4_conv2 False\n",
      "block4_conv3 False\n",
      "block4_pool False\n",
      "block5_conv1 False\n",
      "block5_conv2 False\n",
      "block5_conv3 False\n",
      "block5_pool False\n"
     ]
    }
   ],
   "source": [
    "base_model = VGG16(include_top=False, input_shape=(32,32,3), weights='imagenet')\n",
    "for layer in base_model.layers:\n",
    "    # block, type = layer.name.split('_')\n",
    "    # if block == 'block5' and type != 'pool':\n",
    "    #     layer.trainable = True\n",
    "    # else:\n",
    "    #     layer.trainable = False\n",
    "    layer.trainable = False\n",
    "    print(layer.name, layer.trainable)"
   ]
  },
  {
   "cell_type": "code",
   "execution_count": 10,
   "metadata": {},
   "outputs": [
    {
     "name": "stdout",
     "output_type": "stream",
     "text": [
      "Model: \"sequential\"\n",
      "_________________________________________________________________\n",
      " Layer (type)                Output Shape              Param #   \n",
      "=================================================================\n",
      " vgg16 (Functional)          (None, 1, 1, 512)         14714688  \n",
      "                                                                 \n",
      " flatten (Flatten)           (None, 512)               0         \n",
      "                                                                 \n",
      " dense (Dense)               (None, 64)                32832     \n",
      "                                                                 \n",
      " dense_1 (Dense)             (None, 10)                650       \n",
      "                                                                 \n",
      "=================================================================\n",
      "Total params: 14748170 (56.26 MB)\n",
      "Trainable params: 33482 (130.79 KB)\n",
      "Non-trainable params: 14714688 (56.13 MB)\n",
      "_________________________________________________________________\n"
     ]
    }
   ],
   "source": [
    "model = Sequential()\n",
    "model.add(base_model)\n",
    "model.add(Flatten())\n",
    "model.add(Dense(units=64, activation='softmax'))\n",
    "model.add(Dense(units=10, activation='softmax'))\n",
    "model.summary()\n",
    "model.compile(loss='categorical_crossentropy', optimizer='rmsprop', metrics=['accuracy'])"
   ]
  },
  {
   "cell_type": "code",
   "execution_count": 11,
   "metadata": {},
   "outputs": [
    {
     "name": "stdout",
     "output_type": "stream",
     "text": [
      "Epoch 1/10\n",
      "313/313 [==============================] - 21s 64ms/step - loss: 2.2189 - accuracy: 0.2128 - val_loss: 2.1594 - val_accuracy: 0.2655\n",
      "Epoch 2/10\n",
      "313/313 [==============================] - 19s 60ms/step - loss: 2.0990 - accuracy: 0.3031 - val_loss: 2.0626 - val_accuracy: 0.3070\n",
      "Epoch 3/10\n",
      "313/313 [==============================] - 19s 60ms/step - loss: 1.9972 - accuracy: 0.3400 - val_loss: 1.9553 - val_accuracy: 0.3460\n",
      "Epoch 4/10\n",
      "313/313 [==============================] - 19s 60ms/step - loss: 1.8942 - accuracy: 0.3677 - val_loss: 1.8712 - val_accuracy: 0.3750\n",
      "Epoch 5/10\n",
      "313/313 [==============================] - 20s 64ms/step - loss: 1.8110 - accuracy: 0.4020 - val_loss: 1.8094 - val_accuracy: 0.3965\n",
      "Epoch 6/10\n",
      "313/313 [==============================] - 20s 64ms/step - loss: 1.7293 - accuracy: 0.4266 - val_loss: 1.7481 - val_accuracy: 0.4175\n",
      "Epoch 7/10\n",
      "313/313 [==============================] - 19s 60ms/step - loss: 1.6647 - accuracy: 0.4397 - val_loss: 1.7045 - val_accuracy: 0.4155\n",
      "Epoch 8/10\n",
      "313/313 [==============================] - 19s 59ms/step - loss: 1.6190 - accuracy: 0.4511 - val_loss: 1.6786 - val_accuracy: 0.4365\n",
      "Epoch 9/10\n",
      "313/313 [==============================] - 19s 60ms/step - loss: 1.5744 - accuracy: 0.4630 - val_loss: 1.6543 - val_accuracy: 0.4310\n",
      "Epoch 10/10\n",
      "313/313 [==============================] - 19s 61ms/step - loss: 1.5367 - accuracy: 0.4736 - val_loss: 1.6497 - val_accuracy: 0.4295\n"
     ]
    },
    {
     "data": {
      "text/plain": [
       "<keras.src.callbacks.History at 0x7f31fe4c3b50>"
      ]
     },
     "execution_count": 11,
     "metadata": {},
     "output_type": "execute_result"
    }
   ],
   "source": [
    "model.fit(x_train, y_train_one_hot,\n",
    "          validation_data=(x_test, y_test_one_hot),\n",
    "          epochs=10,\n",
    "          batch_size=32)"
   ]
  }
 ],
 "metadata": {
  "kernelspec": {
   "display_name": "keras_learning",
   "language": "python",
   "name": "python3"
  },
  "language_info": {
   "codemirror_mode": {
    "name": "ipython",
    "version": 3
   },
   "file_extension": ".py",
   "mimetype": "text/x-python",
   "name": "python",
   "nbconvert_exporter": "python",
   "pygments_lexer": "ipython3",
   "version": "3.10.13"
  }
 },
 "nbformat": 4,
 "nbformat_minor": 2
}
